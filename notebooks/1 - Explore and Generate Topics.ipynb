{
 "cells": [
  {
   "cell_type": "markdown",
   "metadata": {
    "collapsed": true
   },
   "source": [
    "# Introduction"
   ]
  },
  {
   "cell_type": "markdown",
   "metadata": {},
   "source": [
    "This notebook does the intitial cleaning and generation of joke topics. Will be transformed into a script."
   ]
  },
  {
   "cell_type": "code",
   "execution_count": 4,
   "metadata": {
    "collapsed": true
   },
   "outputs": [],
   "source": [
    "import os\n",
    "import sys\n",
    "import pickle\n",
    "from importlib import reload\n",
    "import numpy as np\n",
    "import pandas as pd\n",
    "from tqdm import tqdm"
   ]
  },
  {
   "cell_type": "code",
   "execution_count": 5,
   "metadata": {
    "collapsed": true
   },
   "outputs": [],
   "source": [
    "import requests\n",
    "from sklearn.externals import joblib\n",
    "import string\n",
    "import h5py"
   ]
  },
  {
   "cell_type": "code",
   "execution_count": 8,
   "metadata": {
    "collapsed": true
   },
   "outputs": [],
   "source": [
    "PROJECT_DIR = os.path.join(os.getcwd(), os.pardir)\n",
    "os.chdir(PROJECT_DIR)"
   ]
  },
  {
   "cell_type": "code",
   "execution_count": 9,
   "metadata": {
    "collapsed": true
   },
   "outputs": [],
   "source": [
    "sys.path.insert(0, \"src\")"
   ]
  },
  {
   "cell_type": "code",
   "execution_count": 10,
   "metadata": {},
   "outputs": [
    {
     "name": "stderr",
     "output_type": "stream",
     "text": [
      "Using TensorFlow backend.\n"
     ]
    }
   ],
   "source": [
    "import helpers\n",
    "helpers = reload(helpers)"
   ]
  },
  {
   "cell_type": "markdown",
   "metadata": {},
   "source": [
    "## Global Variables"
   ]
  },
  {
   "cell_type": "code",
   "execution_count": 11,
   "metadata": {
    "collapsed": true
   },
   "outputs": [],
   "source": [
    "CHARS_SEQS_OUT = \"data/joke_char_sequences_Jan20.h5\"\n",
    "TOPICS_OUT = \"data/joke_topics.pkl\"\n",
    "MODELER_OUT = \"data/jokes_topic_modeler.pkl\"\n",
    "DICT_OUT = \"data/char_dict_Jan20.pkl\""
   ]
  },
  {
   "cell_type": "code",
   "execution_count": 12,
   "metadata": {
    "collapsed": true
   },
   "outputs": [],
   "source": [
    "JOKES_URL = \"https://onedrive.live.com/download?cid=ABD51044F5341265&resid=ABD51044F5341265%21112436&authkey=AFUOwOJbFyY6ZFM\"\n",
    "JOKE_PATH = \"data/raw/reddit_jokes.csv\""
   ]
  },
  {
   "cell_type": "markdown",
   "metadata": {},
   "source": [
    "# Read Jokes"
   ]
  },
  {
   "cell_type": "code",
   "execution_count": 14,
   "metadata": {},
   "outputs": [
    {
     "name": "stdout",
     "output_type": "stream",
     "text": [
      "Jokes file not found, so downloading it.\n",
      "Jokes downloaded\n"
     ]
    }
   ],
   "source": [
    "#check if the jokes file is available, and download it if it is not\n",
    "if not os.path.exists(JOKE_PATH):\n",
    "    print(\"Jokes file not found, so downloading it.\")\n",
    "    response = requests.get(JOKES_URL, allow_redirects=True)\n",
    "    with open(JOKE_PATH, 'wb') as f:\n",
    "        f.write(response.content)\n",
    "    print(\"Jokes downloaded.\")"
   ]
  },
  {
   "cell_type": "code",
   "execution_count": 10,
   "metadata": {
    "collapsed": true
   },
   "outputs": [],
   "source": [
    "#now jokes\n",
    "jokes = pd.read_csv(\"data/raw/reddit_jokes.csv\")\n",
    "#only funy ones\n",
    "jokes = jokes[jokes[\"ups\"]>=10]"
   ]
  },
  {
   "cell_type": "code",
   "execution_count": 11,
   "metadata": {
    "collapsed": true
   },
   "outputs": [],
   "source": [
    "#get rid of joke with very little text\n",
    "jokes = jokes[jokes[\"text\"].str.len() >=4]\n",
    "jokes = jokes[\"title\"].str.cat(jokes[\"text\"], sep=\"\\n\\n\")\n",
    "jokes = jokes.tolist()"
   ]
  },
  {
   "cell_type": "code",
   "execution_count": 12,
   "metadata": {},
   "outputs": [
    {
     "data": {
      "text/plain": [
       "109095"
      ]
     },
     "execution_count": 12,
     "metadata": {},
     "output_type": "execute_result"
    }
   ],
   "source": [
    "len(jokes)"
   ]
  },
  {
   "cell_type": "code",
   "execution_count": 13,
   "metadata": {
    "collapsed": true
   },
   "outputs": [],
   "source": [
    "jokes = np.array(jokes)"
   ]
  },
  {
   "cell_type": "code",
   "execution_count": 14,
   "metadata": {},
   "outputs": [
    {
     "data": {
      "text/plain": [
       "(109095,)"
      ]
     },
     "execution_count": 14,
     "metadata": {},
     "output_type": "execute_result"
    }
   ],
   "source": [
    "jokes.shape"
   ]
  },
  {
   "cell_type": "markdown",
   "metadata": {},
   "source": [
    "Nest time will keep ups for weights.."
   ]
  },
  {
   "cell_type": "markdown",
   "metadata": {},
   "source": [
    "# Create Topics"
   ]
  },
  {
   "cell_type": "code",
   "execution_count": 15,
   "metadata": {},
   "outputs": [
    {
     "name": "stdout",
     "output_type": "stream",
     "text": [
      "Wall time: 42min 14s\n"
     ]
    }
   ],
   "source": [
    "%%time\n",
    "modeler = helpers.TopicModeler(n_topics=32)\n",
    "topics = modeler.fit_transform(jokes)"
   ]
  },
  {
   "cell_type": "code",
   "execution_count": 16,
   "metadata": {},
   "outputs": [
    {
     "data": {
      "text/plain": [
       "(109095, 32)"
      ]
     },
     "execution_count": 16,
     "metadata": {},
     "output_type": "execute_result"
    }
   ],
   "source": [
    "topics.shape"
   ]
  },
  {
   "cell_type": "code",
   "execution_count": 17,
   "metadata": {},
   "outputs": [
    {
     "data": {
      "text/plain": [
       "['data/joke_topics.pkl']"
      ]
     },
     "execution_count": 17,
     "metadata": {},
     "output_type": "execute_result"
    }
   ],
   "source": [
    "#now save topics\n",
    "joblib.dump(topics, TOPICS_OUT)"
   ]
  },
  {
   "cell_type": "code",
   "execution_count": 18,
   "metadata": {
    "collapsed": true
   },
   "outputs": [],
   "source": [
    "#and topic modeller (Encoder?)"
   ]
  },
  {
   "cell_type": "code",
   "execution_count": 29,
   "metadata": {},
   "outputs": [
    {
     "data": {
      "text/plain": [
       "['data/jokes_topic_modeler.pkl']"
      ]
     },
     "execution_count": 29,
     "metadata": {},
     "output_type": "execute_result"
    }
   ],
   "source": [
    "joblib.dump(modeler, MODELER_OUT)"
   ]
  },
  {
   "cell_type": "markdown",
   "metadata": {},
   "source": [
    "# Create Char Seqs"
   ]
  },
  {
   "cell_type": "code",
   "execution_count": 20,
   "metadata": {
    "collapsed": true
   },
   "outputs": [],
   "source": [
    "#pre make dict\n",
    "char_dict = {\"<BOUND>\":0}\n",
    "for ix, char in enumerate(string.printable):\n",
    "    if char not in ('\\x0c', '\\x0b', \"\\r\"):\n",
    "        char_dict[char] = ix+1"
   ]
  },
  {
   "cell_type": "code",
   "execution_count": 21,
   "metadata": {},
   "outputs": [
    {
     "data": {
      "text/plain": [
       "98"
      ]
     },
     "execution_count": 21,
     "metadata": {},
     "output_type": "execute_result"
    }
   ],
   "source": [
    "len(char_dict)"
   ]
  },
  {
   "cell_type": "code",
   "execution_count": 24,
   "metadata": {
    "collapsed": true
   },
   "outputs": [],
   "source": [
    "#now save\n",
    "pickle_out = open(DICT_OUT,\"wb\")\n",
    "pickle.dump(char_dict, pickle_out)\n",
    "pickle_out.close()"
   ]
  },
  {
   "cell_type": "code",
   "execution_count": 27,
   "metadata": {},
   "outputs": [
    {
     "name": "stderr",
     "output_type": "stream",
     "text": [
      "100%|████████████████████████████████████████████████████████████████████████| 109095/109095 [01:16<00:00, 1420.19it/s]\n"
     ]
    }
   ],
   "source": [
    "f = h5py.File(CHARS_SEQS_OUT, 'w')\n",
    "dt = h5py.special_dtype(vlen=np.dtype('int32'))\n",
    "dset = f.create_dataset('seqs', (len(jokes),), dtype=dt)\n",
    "for i in tqdm(range(len(jokes))):\n",
    "    text=jokes[i]\n",
    "    #make certain all strings\n",
    "    seq = [char_dict[\"<BOUND>\"]]\n",
    "    for char in text:\n",
    "        if char in string.printable:\n",
    "            try:\n",
    "                seq.append(char_dict[char])\n",
    "            except KeyError:\n",
    "                pass\n",
    "    dset[i]=np.array(seq, dtype=\"int32\")"
   ]
  },
  {
   "cell_type": "code",
   "execution_count": 28,
   "metadata": {
    "collapsed": true
   },
   "outputs": [],
   "source": [
    "f.close()"
   ]
  }
 ],
 "metadata": {
  "kernelspec": {
   "display_name": "Python 3",
   "language": "python",
   "name": "python3"
  },
  "language_info": {
   "codemirror_mode": {
    "name": "ipython",
    "version": 3
   },
   "file_extension": ".py",
   "mimetype": "text/x-python",
   "name": "python",
   "nbconvert_exporter": "python",
   "pygments_lexer": "ipython3",
   "version": "3.6.2"
  }
 },
 "nbformat": 4,
 "nbformat_minor": 2
}
